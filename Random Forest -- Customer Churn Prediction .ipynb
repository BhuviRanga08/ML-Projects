{
 "cells": [
  {
   "cell_type": "markdown",
   "id": "f0b6487b",
   "metadata": {
    "papermill": {
     "duration": 0.008179,
     "end_time": "2023-07-11T11:07:24.391670",
     "exception": false,
     "start_time": "2023-07-11T11:07:24.383491",
     "status": "completed"
    },
    "tags": []
   },
   "source": [
    "<span style='font-family:Lato'><span style='font-size:110%;'>\n",
    "    The AIM of our study today is to predict Customer Churn using the <a href = 'https://www.kaggle.com/datasets/bhuviranga/customer-churn-data'>Bank Customer Churn Prediction dataset</a>.Although before that let us understand what customer churn stands for.<br>\n",
    "    <b>Customer Churn</b> : It is reffered to the phenomenon where customers or subscribers of a business or service discontinue their relationship or stop using the product or service over a certain period of time. This is a Key aspect in business industries as by predicting if the customer will churn or not company can manage the expectations of that customer and avoid future damage.\n",
    "    </span>"
   ]
  },
  {
   "cell_type": "code",
   "execution_count": 1,
   "id": "5fbe368e",
   "metadata": {
    "execution": {
     "iopub.execute_input": "2023-07-11T11:07:24.409408Z",
     "iopub.status.busy": "2023-07-11T11:07:24.408720Z",
     "iopub.status.idle": "2023-07-11T11:07:25.726362Z",
     "shell.execute_reply": "2023-07-11T11:07:25.725161Z"
    },
    "papermill": {
     "duration": 1.329402,
     "end_time": "2023-07-11T11:07:25.729017",
     "exception": false,
     "start_time": "2023-07-11T11:07:24.399615",
     "status": "completed"
    },
    "tags": []
   },
   "outputs": [
    {
     "name": "stderr",
     "output_type": "stream",
     "text": [
      "/opt/conda/lib/python3.10/site-packages/scipy/__init__.py:146: UserWarning: A NumPy version >=1.16.5 and <1.23.0 is required for this version of SciPy (detected version 1.23.5\n",
      "  warnings.warn(f\"A NumPy version >={np_minversion} and <{np_maxversion}\"\n"
     ]
    }
   ],
   "source": [
    "#--Importing required libraries\n",
    "import pandas as pd\n",
    "import seaborn as sns\n",
    "import matplotlib.pyplot as plt\n",
    "import numpy as np\n",
    "\n",
    "sns.set_theme(context = 'paper', style ='whitegrid', font= 'Georgia', font_scale = 1.2)"
   ]
  },
  {
   "cell_type": "markdown",
   "id": "fb52d73d",
   "metadata": {
    "papermill": {
     "duration": 0.007537,
     "end_time": "2023-07-11T11:07:25.744665",
     "exception": false,
     "start_time": "2023-07-11T11:07:25.737128",
     "status": "completed"
    },
    "tags": []
   },
   "source": [
    "<span style='font-family:Lato'><span style='font-size:110%;'>\n",
    "    Let us understand the dataset properly :-\n",
    "    <ul><span style='font-family:Lato'><span style='font-size:110%;'>\n",
    "        <li>'customer_id':ID of the customer.</li>\n",
    "        <li>'credit_score': Numeric representation of a customer's creditworthiness.</li>\n",
    "        <li>'country': The country where the customer resides.</li>\n",
    "        <li>'gender': The gender of the customer.</li>\n",
    "        <li>'age': The age of the customer.</li>\n",
    "        <li>'tenure': The length of time the customer has been with the company.</li>\n",
    "        <li>'balance': The account balance of the customer.</li>\n",
    "        <li>'products_number': The number of products the customer has with the company.</li>\n",
    "        <li>'credit_card': Indicates whether the customer has a credit card with the company.</li>\n",
    "        <li>'active_member': Indicates whether the customer is an active member of the company.</li>\n",
    "        <li>'estimated_salary': The estimated salary of the customer.</li>\n",
    "        <li>'churn': Indicates whether the customer has churned or not.1 indicates that the customer has churned and 0 indicates he/she has not.</li>\n",
    "        </span>"
   ]
  },
  {
   "cell_type": "code",
   "execution_count": 2,
   "id": "2e15c381",
   "metadata": {
    "execution": {
     "iopub.execute_input": "2023-07-11T11:07:25.763211Z",
     "iopub.status.busy": "2023-07-11T11:07:25.762767Z",
     "iopub.status.idle": "2023-07-11T11:07:25.826996Z",
     "shell.execute_reply": "2023-07-11T11:07:25.825855Z"
    },
    "papermill": {
     "duration": 0.076633,
     "end_time": "2023-07-11T11:07:25.829711",
     "exception": false,
     "start_time": "2023-07-11T11:07:25.753078",
     "status": "completed"
    },
    "tags": []
   },
   "outputs": [
    {
     "data": {
      "text/html": [
       "<div>\n",
       "<style scoped>\n",
       "    .dataframe tbody tr th:only-of-type {\n",
       "        vertical-align: middle;\n",
       "    }\n",
       "\n",
       "    .dataframe tbody tr th {\n",
       "        vertical-align: top;\n",
       "    }\n",
       "\n",
       "    .dataframe thead th {\n",
       "        text-align: right;\n",
       "    }\n",
       "</style>\n",
       "<table border=\"1\" class=\"dataframe\">\n",
       "  <thead>\n",
       "    <tr style=\"text-align: right;\">\n",
       "      <th></th>\n",
       "      <th>customer_id</th>\n",
       "      <th>credit_score</th>\n",
       "      <th>country</th>\n",
       "      <th>gender</th>\n",
       "      <th>age</th>\n",
       "      <th>tenure</th>\n",
       "      <th>balance</th>\n",
       "      <th>products_number</th>\n",
       "      <th>credit_card</th>\n",
       "      <th>active_member</th>\n",
       "      <th>estimated_salary</th>\n",
       "      <th>churn</th>\n",
       "    </tr>\n",
       "  </thead>\n",
       "  <tbody>\n",
       "    <tr>\n",
       "      <th>0</th>\n",
       "      <td>15634602</td>\n",
       "      <td>619</td>\n",
       "      <td>France</td>\n",
       "      <td>Female</td>\n",
       "      <td>42</td>\n",
       "      <td>2</td>\n",
       "      <td>0.00</td>\n",
       "      <td>1</td>\n",
       "      <td>1</td>\n",
       "      <td>1</td>\n",
       "      <td>101348.88</td>\n",
       "      <td>1</td>\n",
       "    </tr>\n",
       "    <tr>\n",
       "      <th>1</th>\n",
       "      <td>15647311</td>\n",
       "      <td>608</td>\n",
       "      <td>Spain</td>\n",
       "      <td>Female</td>\n",
       "      <td>41</td>\n",
       "      <td>1</td>\n",
       "      <td>83807.86</td>\n",
       "      <td>1</td>\n",
       "      <td>0</td>\n",
       "      <td>1</td>\n",
       "      <td>112542.58</td>\n",
       "      <td>0</td>\n",
       "    </tr>\n",
       "    <tr>\n",
       "      <th>2</th>\n",
       "      <td>15619304</td>\n",
       "      <td>502</td>\n",
       "      <td>France</td>\n",
       "      <td>Female</td>\n",
       "      <td>42</td>\n",
       "      <td>8</td>\n",
       "      <td>159660.80</td>\n",
       "      <td>3</td>\n",
       "      <td>1</td>\n",
       "      <td>0</td>\n",
       "      <td>113931.57</td>\n",
       "      <td>1</td>\n",
       "    </tr>\n",
       "    <tr>\n",
       "      <th>3</th>\n",
       "      <td>15701354</td>\n",
       "      <td>699</td>\n",
       "      <td>France</td>\n",
       "      <td>Female</td>\n",
       "      <td>39</td>\n",
       "      <td>1</td>\n",
       "      <td>0.00</td>\n",
       "      <td>2</td>\n",
       "      <td>0</td>\n",
       "      <td>0</td>\n",
       "      <td>93826.63</td>\n",
       "      <td>0</td>\n",
       "    </tr>\n",
       "    <tr>\n",
       "      <th>4</th>\n",
       "      <td>15737888</td>\n",
       "      <td>850</td>\n",
       "      <td>Spain</td>\n",
       "      <td>Female</td>\n",
       "      <td>43</td>\n",
       "      <td>2</td>\n",
       "      <td>125510.82</td>\n",
       "      <td>1</td>\n",
       "      <td>1</td>\n",
       "      <td>1</td>\n",
       "      <td>79084.10</td>\n",
       "      <td>0</td>\n",
       "    </tr>\n",
       "  </tbody>\n",
       "</table>\n",
       "</div>"
      ],
      "text/plain": [
       "   customer_id  credit_score country  gender  age  tenure    balance  \\\n",
       "0     15634602           619  France  Female   42       2       0.00   \n",
       "1     15647311           608   Spain  Female   41       1   83807.86   \n",
       "2     15619304           502  France  Female   42       8  159660.80   \n",
       "3     15701354           699  France  Female   39       1       0.00   \n",
       "4     15737888           850   Spain  Female   43       2  125510.82   \n",
       "\n",
       "   products_number  credit_card  active_member  estimated_salary  churn  \n",
       "0                1            1              1         101348.88      1  \n",
       "1                1            0              1         112542.58      0  \n",
       "2                3            1              0         113931.57      1  \n",
       "3                2            0              0          93826.63      0  \n",
       "4                1            1              1          79084.10      0  "
      ]
     },
     "execution_count": 2,
     "metadata": {},
     "output_type": "execute_result"
    }
   ],
   "source": [
    "#--Loading the dataset\n",
    "df = pd.read_csv('/kaggle/input/customer-churn-data/Bank Customer Churn Prediction.csv')\n",
    "df.head()"
   ]
  },
  {
   "cell_type": "markdown",
   "id": "687b53d9",
   "metadata": {
    "papermill": {
     "duration": 0.008212,
     "end_time": "2023-07-11T11:07:25.847466",
     "exception": false,
     "start_time": "2023-07-11T11:07:25.839254",
     "status": "completed"
    },
    "tags": []
   },
   "source": [
    "<span style='font-family:Lato'><span style='font-size:120%;'>\n",
    "    EXPLORATORY DATA ANALYSIS\n",
    "    </span>"
   ]
  },
  {
   "cell_type": "code",
   "execution_count": 3,
   "id": "577ee25b",
   "metadata": {
    "execution": {
     "iopub.execute_input": "2023-07-11T11:07:25.866851Z",
     "iopub.status.busy": "2023-07-11T11:07:25.866039Z",
     "iopub.status.idle": "2023-07-11T11:07:25.882059Z",
     "shell.execute_reply": "2023-07-11T11:07:25.880636Z"
    },
    "papermill": {
     "duration": 0.028481,
     "end_time": "2023-07-11T11:07:25.884487",
     "exception": false,
     "start_time": "2023-07-11T11:07:25.856006",
     "status": "completed"
    },
    "tags": []
   },
   "outputs": [
    {
     "data": {
      "text/plain": [
       "customer_id         0\n",
       "credit_score        0\n",
       "country             0\n",
       "gender              0\n",
       "age                 0\n",
       "tenure              0\n",
       "balance             0\n",
       "products_number     0\n",
       "credit_card         0\n",
       "active_member       0\n",
       "estimated_salary    0\n",
       "churn               0\n",
       "dtype: int64"
      ]
     },
     "execution_count": 3,
     "metadata": {},
     "output_type": "execute_result"
    }
   ],
   "source": [
    "#--Checking null values\n",
    "df.isnull().sum()"
   ]
  },
  {
   "cell_type": "code",
   "execution_count": 4,
   "id": "564f29e8",
   "metadata": {
    "execution": {
     "iopub.execute_input": "2023-07-11T11:07:25.904155Z",
     "iopub.status.busy": "2023-07-11T11:07:25.903406Z",
     "iopub.status.idle": "2023-07-11T11:07:25.911676Z",
     "shell.execute_reply": "2023-07-11T11:07:25.910583Z"
    },
    "papermill": {
     "duration": 0.020734,
     "end_time": "2023-07-11T11:07:25.914189",
     "exception": false,
     "start_time": "2023-07-11T11:07:25.893455",
     "status": "completed"
    },
    "tags": []
   },
   "outputs": [
    {
     "data": {
      "text/plain": [
       "customer_id           int64\n",
       "credit_score          int64\n",
       "country              object\n",
       "gender               object\n",
       "age                   int64\n",
       "tenure                int64\n",
       "balance             float64\n",
       "products_number       int64\n",
       "credit_card           int64\n",
       "active_member         int64\n",
       "estimated_salary    float64\n",
       "churn                 int64\n",
       "dtype: object"
      ]
     },
     "execution_count": 4,
     "metadata": {},
     "output_type": "execute_result"
    }
   ],
   "source": [
    "#--Checking data types\n",
    "df.dtypes"
   ]
  },
  {
   "cell_type": "code",
   "execution_count": 5,
   "id": "ea924a49",
   "metadata": {
    "execution": {
     "iopub.execute_input": "2023-07-11T11:07:25.933405Z",
     "iopub.status.busy": "2023-07-11T11:07:25.932981Z",
     "iopub.status.idle": "2023-07-11T11:07:25.945048Z",
     "shell.execute_reply": "2023-07-11T11:07:25.943905Z"
    },
    "papermill": {
     "duration": 0.024365,
     "end_time": "2023-07-11T11:07:25.947446",
     "exception": false,
     "start_time": "2023-07-11T11:07:25.923081",
     "status": "completed"
    },
    "tags": []
   },
   "outputs": [
    {
     "name": "stdout",
     "output_type": "stream",
     "text": [
      "1    7055\n",
      "0    2945\n",
      "Name: credit_card, dtype: int64\n",
      "1    5151\n",
      "0    4849\n",
      "Name: active_member, dtype: int64\n",
      "1    5084\n",
      "2    4590\n",
      "3     266\n",
      "4      60\n",
      "Name: products_number, dtype: int64\n"
     ]
    }
   ],
   "source": [
    "#--Getting value counts for categorical values\n",
    "for i in ['credit_card', 'active_member','products_number']:\n",
    "    print(df[i].value_counts())"
   ]
  },
  {
   "cell_type": "code",
   "execution_count": 6,
   "id": "46d1c366",
   "metadata": {
    "execution": {
     "iopub.execute_input": "2023-07-11T11:07:25.967070Z",
     "iopub.status.busy": "2023-07-11T11:07:25.966632Z",
     "iopub.status.idle": "2023-07-11T11:07:25.975940Z",
     "shell.execute_reply": "2023-07-11T11:07:25.974738Z"
    },
    "papermill": {
     "duration": 0.022327,
     "end_time": "2023-07-11T11:07:25.978355",
     "exception": false,
     "start_time": "2023-07-11T11:07:25.956028",
     "status": "completed"
    },
    "tags": []
   },
   "outputs": [],
   "source": [
    "#--Comverting them into object data type\n",
    "for i in ['credit_card', 'active_member','products_number']:\n",
    "        df[i] = df[i].astype('object')"
   ]
  },
  {
   "cell_type": "markdown",
   "id": "6be2a59e",
   "metadata": {
    "papermill": {
     "duration": 0.008408,
     "end_time": "2023-07-11T11:07:25.995430",
     "exception": false,
     "start_time": "2023-07-11T11:07:25.987022",
     "status": "completed"
    },
    "tags": []
   },
   "source": [
    "<span style='font-family:Lato'><span style='font-size:110%;'>\n",
    "    Since, customer_id serves us no purpose we are dropping it.\n",
    "    </span>"
   ]
  },
  {
   "cell_type": "code",
   "execution_count": 7,
   "id": "95adb45a",
   "metadata": {
    "execution": {
     "iopub.execute_input": "2023-07-11T11:07:26.016190Z",
     "iopub.status.busy": "2023-07-11T11:07:26.014650Z",
     "iopub.status.idle": "2023-07-11T11:07:26.026237Z",
     "shell.execute_reply": "2023-07-11T11:07:26.025125Z"
    },
    "papermill": {
     "duration": 0.024113,
     "end_time": "2023-07-11T11:07:26.028778",
     "exception": false,
     "start_time": "2023-07-11T11:07:26.004665",
     "status": "completed"
    },
    "tags": []
   },
   "outputs": [],
   "source": [
    "#--Dropping the redundant column\n",
    "df.drop('customer_id', inplace = True,axis = 1)"
   ]
  },
  {
   "cell_type": "markdown",
   "id": "9f890b4c",
   "metadata": {
    "papermill": {
     "duration": 0.008272,
     "end_time": "2023-07-11T11:07:26.045747",
     "exception": false,
     "start_time": "2023-07-11T11:07:26.037475",
     "status": "completed"
    },
    "tags": []
   },
   "source": [
    "<span style='font-family:Lato'><span style='font-size:120%;'>\n",
    "    DATA VISUALIZATION\n",
    "    </span>"
   ]
  },
  {
   "cell_type": "code",
   "execution_count": 8,
   "id": "51ad9bfc",
   "metadata": {
    "execution": {
     "iopub.execute_input": "2023-07-11T11:07:26.065155Z",
     "iopub.status.busy": "2023-07-11T11:07:26.064721Z",
     "iopub.status.idle": "2023-07-11T11:07:26.465295Z",
     "shell.execute_reply": "2023-07-11T11:07:26.464021Z"
    },
    "papermill": {
     "duration": 0.413323,
     "end_time": "2023-07-11T11:07:26.467613",
     "exception": false,
     "start_time": "2023-07-11T11:07:26.054290",
     "status": "completed"
    },
    "tags": []
   },
   "outputs": [
    {
     "data": {
      "image/png": "[encoded data removed]",
      "text/plain": [
       "<Figure size 640x480 with 1 Axes>"
      ]
     },
     "metadata": {},
     "output_type": "display_data"
    }
   ],
   "source": [
    "#--How does Tenure affect Churn\n",
    "tenure_yes = df[df['churn'] == 1].tenure\n",
    "tenure_no = df[df['churn'] == 0].tenure\n",
    "\n",
    "plt.hist([tenure_yes,tenure_no], color =['orange','slateblue'], label=['Churn = Yes','Churn = No'])\n",
    "plt.legend()\n",
    "plt.title('How does Tenure affect Churn')\n",
    "plt.xlabel('Tenure')\n",
    "plt.ylabel('No. of customer')\n",
    "plt.show()"
   ]
  },
  {
   "cell_type": "markdown",
   "id": "e637bc22",
   "metadata": {
    "papermill": {
     "duration": 0.008732,
     "end_time": "2023-07-11T11:07:26.485427",
     "exception": false,
     "start_time": "2023-07-11T11:07:26.476695",
     "status": "completed"
    },
    "tags": []
   },
   "source": [
    "<span style='font-family:Lato'><span style='font-size:110%;'>\n",
    "    By looking at the graph there is no clear indication that customers with more tenure churn less or vise versa.Usually, tenure does affect customer churn however, it is not the case here.\n",
    "    </span>"
   ]
  },
  {
   "cell_type": "code",
   "execution_count": 9,
   "id": "7e5e26b9",
   "metadata": {
    "execution": {
     "iopub.execute_input": "2023-07-11T11:07:26.504750Z",
     "iopub.status.busy": "2023-07-11T11:07:26.504344Z",
     "iopub.status.idle": "2023-07-11T11:07:26.849330Z",
     "shell.execute_reply": "2023-07-11T11:07:26.848000Z"
    },
    "papermill": {
     "duration": 0.357436,
     "end_time": "2023-07-11T11:07:26.851641",
     "exception": false,
     "start_time": "2023-07-11T11:07:26.494205",
     "status": "completed"
    },
    "tags": []
   },
   "outputs": [
    {
     "data": {
      "image/png": "[encoded data removed]",
      "text/plain": [
       "<Figure size 640x480 with 1 Axes>"
      ]
     },
     "metadata": {},
     "output_type": "display_data"
    }
   ],
   "source": [
    "#--How does being an active member affect Churn\n",
    "member_yes = df[df['churn'] == 1].active_member\n",
    "member_no = df[df['churn'] == 0].active_member\n",
    "\n",
    "plt.hist([member_yes,member_no], color =['pink','purple'], label=['Churn = Yes','Churn = No'])\n",
    "plt.legend()\n",
    "plt.title('How does being an active member affect Churn')\n",
    "plt.xlabel('Active Member')\n",
    "plt.ylabel('No. of customer')\n",
    "plt.show()"
   ]
  },
  {
   "cell_type": "markdown",
   "id": "4b18329e",
   "metadata": {
    "papermill": {
     "duration": 0.009755,
     "end_time": "2023-07-11T11:07:26.871310",
     "exception": false,
     "start_time": "2023-07-11T11:07:26.861555",
     "status": "completed"
    },
    "tags": []
   },
   "source": [
    "<span style='font-family:Lato'><span style='font-size:110%;'>\n",
    "    The graph above suggests that customer who are an active member are less likely to leave, this could be true due to the benefits to being an active member in a bank.\n",
    "    </span>"
   ]
  },
  {
   "cell_type": "code",
   "execution_count": 10,
   "id": "64dbbd1f",
   "metadata": {
    "execution": {
     "iopub.execute_input": "2023-07-11T11:07:26.893335Z",
     "iopub.status.busy": "2023-07-11T11:07:26.892944Z",
     "iopub.status.idle": "2023-07-11T11:07:27.254684Z",
     "shell.execute_reply": "2023-07-11T11:07:27.253379Z"
    },
    "papermill": {
     "duration": 0.37547,
     "end_time": "2023-07-11T11:07:27.257068",
     "exception": false,
     "start_time": "2023-07-11T11:07:26.881598",
     "status": "completed"
    },
    "tags": []
   },
   "outputs": [
    {
     "data": {
      "image/png": "[encoded data removed]",
      "text/plain": [
       "<Figure size 640x480 with 1 Axes>"
      ]
     },
     "metadata": {},
     "output_type": "display_data"
    }
   ],
   "source": [
    "#--How does gender affect Churn\n",
    "\n",
    "female = df[df['gender'] == 'Female']\n",
    "male = df[df['gender'] == 'Male']\n",
    "female_yes = female[female['churn'] == 1].gender\n",
    "female_no = female[female['churn'] == 0].gender\n",
    "male_yes = male[male['churn'] == 1].gender\n",
    "male_no = male[male['churn'] == 0].gender\n",
    "\n",
    "\n",
    "\n",
    "plt.hist([female_yes,female_no,male_yes,male_no], \n",
    "         color =['lavender','slateblue','crimson','tomato'], \n",
    "         label=['Female Churn = Yes','Female Churn = No','Male Churn = Yes','Male Churn = No'])\n",
    "plt.legend()\n",
    "plt.title('How does gender affect Churn')\n",
    "plt.xlabel('Gender')\n",
    "plt.ylabel('No. of customer')\n",
    "plt.show()"
   ]
  },
  {
   "cell_type": "markdown",
   "id": "ae424f4b",
   "metadata": {
    "papermill": {
     "duration": 0.00939,
     "end_time": "2023-07-11T11:07:27.276291",
     "exception": false,
     "start_time": "2023-07-11T11:07:27.266901",
     "status": "completed"
    },
    "tags": []
   },
   "source": [
    "<span style='font-family:Lato'><span style='font-size:110%;'>\n",
    "    The graph indicates that women are more likely to leave as compared to men. To reason with this we can say factors such as gender-related preferences, life events, or market dynamics may contribute to observed differences in churn rates between genders.</span>"
   ]
  },
  {
   "cell_type": "markdown",
   "id": "12692556",
   "metadata": {
    "papermill": {
     "duration": 0.009465,
     "end_time": "2023-07-11T11:07:27.295502",
     "exception": false,
     "start_time": "2023-07-11T11:07:27.286037",
     "status": "completed"
    },
    "tags": []
   },
   "source": [
    "<span style='font-family:Lato'><span style='font-size:120%;'>\n",
    "    CATEGORICAL ENCODING \n",
    "    </span>"
   ]
  },
  {
   "cell_type": "markdown",
   "id": "60756bce",
   "metadata": {
    "papermill": {
     "duration": 0.009437,
     "end_time": "2023-07-11T11:07:27.314825",
     "exception": false,
     "start_time": "2023-07-11T11:07:27.305388",
     "status": "completed"
    },
    "tags": []
   },
   "source": [
    "<span style='font-family:Lato'><span style='font-size:110%;'>\n",
    "    Generally, there are two methods to encode categorical data.\n",
    "    <ul><span style='font-family:Lato'><span style='font-size:110%;'>\n",
    "        <li> Get Dummies : One-hot encoding creates binary columns for each category, representing the presence or absence of a category.It is suitable for nominal variables with no inherent order, such as the \"country\" variable. </li>\n",
    "        <li> Label Encoder : It assigns a unique numerical label to each category in the variable.It is suitable for variables with ordinal relationships, where the order of categories matters (e.g., low, medium, high).</li>\n",
    "        </span>\n"
   ]
  },
  {
   "cell_type": "code",
   "execution_count": 11,
   "id": "2cb8e8a1",
   "metadata": {
    "execution": {
     "iopub.execute_input": "2023-07-11T11:07:27.336664Z",
     "iopub.status.busy": "2023-07-11T11:07:27.336226Z",
     "iopub.status.idle": "2023-07-11T11:07:27.345622Z",
     "shell.execute_reply": "2023-07-11T11:07:27.344473Z"
    },
    "papermill": {
     "duration": 0.023189,
     "end_time": "2023-07-11T11:07:27.347835",
     "exception": false,
     "start_time": "2023-07-11T11:07:27.324646",
     "status": "completed"
    },
    "tags": []
   },
   "outputs": [
    {
     "data": {
      "text/plain": [
       "France     5014\n",
       "Germany    2509\n",
       "Spain      2477\n",
       "Name: country, dtype: int64"
      ]
     },
     "execution_count": 11,
     "metadata": {},
     "output_type": "execute_result"
    }
   ],
   "source": [
    "#--Examining country column\n",
    "df['country'].value_counts()"
   ]
  },
  {
   "cell_type": "code",
   "execution_count": 12,
   "id": "9a1b3b11",
   "metadata": {
    "execution": {
     "iopub.execute_input": "2023-07-11T11:07:27.369862Z",
     "iopub.status.busy": "2023-07-11T11:07:27.368920Z",
     "iopub.status.idle": "2023-07-11T11:07:27.395424Z",
     "shell.execute_reply": "2023-07-11T11:07:27.394273Z"
    },
    "papermill": {
     "duration": 0.03982,
     "end_time": "2023-07-11T11:07:27.397630",
     "exception": false,
     "start_time": "2023-07-11T11:07:27.357810",
     "status": "completed"
    },
    "tags": []
   },
   "outputs": [
    {
     "data": {
      "text/html": [
       "<div>\n",
       "<style scoped>\n",
       "    .dataframe tbody tr th:only-of-type {\n",
       "        vertical-align: middle;\n",
       "    }\n",
       "\n",
       "    .dataframe tbody tr th {\n",
       "        vertical-align: top;\n",
       "    }\n",
       "\n",
       "    .dataframe thead th {\n",
       "        text-align: right;\n",
       "    }\n",
       "</style>\n",
       "<table border=\"1\" class=\"dataframe\">\n",
       "  <thead>\n",
       "    <tr style=\"text-align: right;\">\n",
       "      <th></th>\n",
       "      <th>credit_score</th>\n",
       "      <th>age</th>\n",
       "      <th>tenure</th>\n",
       "      <th>balance</th>\n",
       "      <th>products_number</th>\n",
       "      <th>credit_card</th>\n",
       "      <th>active_member</th>\n",
       "      <th>estimated_salary</th>\n",
       "      <th>churn</th>\n",
       "      <th>country_France</th>\n",
       "      <th>country_Germany</th>\n",
       "      <th>country_Spain</th>\n",
       "      <th>gender_Female</th>\n",
       "      <th>gender_Male</th>\n",
       "    </tr>\n",
       "  </thead>\n",
       "  <tbody>\n",
       "    <tr>\n",
       "      <th>0</th>\n",
       "      <td>619</td>\n",
       "      <td>42</td>\n",
       "      <td>2</td>\n",
       "      <td>0.00</td>\n",
       "      <td>1</td>\n",
       "      <td>1</td>\n",
       "      <td>1</td>\n",
       "      <td>101348.88</td>\n",
       "      <td>1</td>\n",
       "      <td>1</td>\n",
       "      <td>0</td>\n",
       "      <td>0</td>\n",
       "      <td>1</td>\n",
       "      <td>0</td>\n",
       "    </tr>\n",
       "    <tr>\n",
       "      <th>1</th>\n",
       "      <td>608</td>\n",
       "      <td>41</td>\n",
       "      <td>1</td>\n",
       "      <td>83807.86</td>\n",
       "      <td>1</td>\n",
       "      <td>0</td>\n",
       "      <td>1</td>\n",
       "      <td>112542.58</td>\n",
       "      <td>0</td>\n",
       "      <td>0</td>\n",
       "      <td>0</td>\n",
       "      <td>1</td>\n",
       "      <td>1</td>\n",
       "      <td>0</td>\n",
       "    </tr>\n",
       "    <tr>\n",
       "      <th>2</th>\n",
       "      <td>502</td>\n",
       "      <td>42</td>\n",
       "      <td>8</td>\n",
       "      <td>159660.80</td>\n",
       "      <td>3</td>\n",
       "      <td>1</td>\n",
       "      <td>0</td>\n",
       "      <td>113931.57</td>\n",
       "      <td>1</td>\n",
       "      <td>1</td>\n",
       "      <td>0</td>\n",
       "      <td>0</td>\n",
       "      <td>1</td>\n",
       "      <td>0</td>\n",
       "    </tr>\n",
       "    <tr>\n",
       "      <th>3</th>\n",
       "      <td>699</td>\n",
       "      <td>39</td>\n",
       "      <td>1</td>\n",
       "      <td>0.00</td>\n",
       "      <td>2</td>\n",
       "      <td>0</td>\n",
       "      <td>0</td>\n",
       "      <td>93826.63</td>\n",
       "      <td>0</td>\n",
       "      <td>1</td>\n",
       "      <td>0</td>\n",
       "      <td>0</td>\n",
       "      <td>1</td>\n",
       "      <td>0</td>\n",
       "    </tr>\n",
       "    <tr>\n",
       "      <th>4</th>\n",
       "      <td>850</td>\n",
       "      <td>43</td>\n",
       "      <td>2</td>\n",
       "      <td>125510.82</td>\n",
       "      <td>1</td>\n",
       "      <td>1</td>\n",
       "      <td>1</td>\n",
       "      <td>79084.10</td>\n",
       "      <td>0</td>\n",
       "      <td>0</td>\n",
       "      <td>0</td>\n",
       "      <td>1</td>\n",
       "      <td>1</td>\n",
       "      <td>0</td>\n",
       "    </tr>\n",
       "  </tbody>\n",
       "</table>\n",
       "</div>"
      ],
      "text/plain": [
       "   credit_score  age  tenure    balance products_number credit_card  \\\n",
       "0           619   42       2       0.00               1           1   \n",
       "1           608   41       1   83807.86               1           0   \n",
       "2           502   42       8  159660.80               3           1   \n",
       "3           699   39       1       0.00               2           0   \n",
       "4           850   43       2  125510.82               1           1   \n",
       "\n",
       "  active_member  estimated_salary  churn  country_France  country_Germany  \\\n",
       "0             1         101348.88      1               1                0   \n",
       "1             1         112542.58      0               0                0   \n",
       "2             0         113931.57      1               1                0   \n",
       "3             0          93826.63      0               1                0   \n",
       "4             1          79084.10      0               0                0   \n",
       "\n",
       "   country_Spain  gender_Female  gender_Male  \n",
       "0              0              1            0  \n",
       "1              1              1            0  \n",
       "2              0              1            0  \n",
       "3              0              1            0  \n",
       "4              1              1            0  "
      ]
     },
     "execution_count": 12,
     "metadata": {},
     "output_type": "execute_result"
    }
   ],
   "source": [
    "#--One-Hot Encoding categorical column\n",
    "df = pd.get_dummies(df, columns = ['country', 'gender'])\n",
    "df.head()"
   ]
  },
  {
   "cell_type": "markdown",
   "id": "24452510",
   "metadata": {
    "papermill": {
     "duration": 0.009934,
     "end_time": "2023-07-11T11:07:27.418075",
     "exception": false,
     "start_time": "2023-07-11T11:07:27.408141",
     "status": "completed"
    },
    "tags": []
   },
   "source": [
    "<span style='font-family:Lato'><span style='font-size:120%;'>\n",
    "    MODEL BUILDING\n",
    "    </span>"
   ]
  },
  {
   "cell_type": "markdown",
   "id": "41723895",
   "metadata": {
    "papermill": {
     "duration": 0.010409,
     "end_time": "2023-07-11T11:07:27.438781",
     "exception": false,
     "start_time": "2023-07-11T11:07:27.428372",
     "status": "completed"
    },
    "tags": []
   },
   "source": [
    "<span style='font-family:Lato'><span style='font-size:110%;'>\n",
    "    The workflow will be as follows :-\n",
    "    <ol><span style='font-family:Lato'><span style='font-size:110%;'>\n",
    "        <li> We are working with categorical prediction which means we need to use Classification ML algorithm. To keep it simple I've only showed the comparision between Decision Trees and Random Forests.</li>\n",
    "        <li> We'll begin first by splitting the dataset into train , test dataset.</li>\n",
    "        <li> We'll build a simple Decision Trees model and calculate its predicted values. </li>\n",
    "        <li> Then we'll try to build a Random Forests model, for this we need the n_estimators i.e. the no. of decision trees we'll be using.</li>\n",
    "        <li> Now, for this particular step you can use any method such as guessing, although here I've used a simple tactic using the score of the model to decide the value of n_estimators.</li>\n",
    "        </span>"
   ]
  },
  {
   "cell_type": "code",
   "execution_count": 13,
   "id": "ac5ce33e",
   "metadata": {
    "execution": {
     "iopub.execute_input": "2023-07-11T11:07:27.461401Z",
     "iopub.status.busy": "2023-07-11T11:07:27.460543Z",
     "iopub.status.idle": "2023-07-11T11:07:27.714708Z",
     "shell.execute_reply": "2023-07-11T11:07:27.713605Z"
    },
    "papermill": {
     "duration": 0.268182,
     "end_time": "2023-07-11T11:07:27.717426",
     "exception": false,
     "start_time": "2023-07-11T11:07:27.449244",
     "status": "completed"
    },
    "tags": []
   },
   "outputs": [],
   "source": [
    "#--Splitting the model\n",
    "from sklearn.model_selection import train_test_split\n",
    "X_train,x_test,Y_train,y_test = train_test_split(df.drop('churn', axis = 1), df['churn'], random_state = 0, test_size = .30)"
   ]
  },
  {
   "cell_type": "code",
   "execution_count": 14,
   "id": "3033e945",
   "metadata": {
    "execution": {
     "iopub.execute_input": "2023-07-11T11:07:27.740210Z",
     "iopub.status.busy": "2023-07-11T11:07:27.739763Z",
     "iopub.status.idle": "2023-07-11T11:07:28.058872Z",
     "shell.execute_reply": "2023-07-11T11:07:28.057704Z"
    },
    "papermill": {
     "duration": 0.333175,
     "end_time": "2023-07-11T11:07:28.061301",
     "exception": false,
     "start_time": "2023-07-11T11:07:27.728126",
     "status": "completed"
    },
    "tags": []
   },
   "outputs": [],
   "source": [
    "#--Building a Decision Tree\n",
    "from sklearn.tree import DecisionTreeClassifier as DTC\n",
    "model = DTC().fit(X_train,Y_train)"
   ]
  },
  {
   "cell_type": "code",
   "execution_count": 15,
   "id": "6ecf589e",
   "metadata": {
    "execution": {
     "iopub.execute_input": "2023-07-11T11:07:28.083538Z",
     "iopub.status.busy": "2023-07-11T11:07:28.083137Z",
     "iopub.status.idle": "2023-07-11T11:07:28.094431Z",
     "shell.execute_reply": "2023-07-11T11:07:28.093280Z"
    },
    "papermill": {
     "duration": 0.025071,
     "end_time": "2023-07-11T11:07:28.096759",
     "exception": false,
     "start_time": "2023-07-11T11:07:28.071688",
     "status": "completed"
    },
    "tags": []
   },
   "outputs": [],
   "source": [
    "#--Getting Predictions\n",
    "y_pred = model.predict(x_test)"
   ]
  },
  {
   "cell_type": "code",
   "execution_count": 16,
   "id": "5081cf1a",
   "metadata": {
    "execution": {
     "iopub.execute_input": "2023-07-11T11:07:28.118906Z",
     "iopub.status.busy": "2023-07-11T11:07:28.118496Z",
     "iopub.status.idle": "2023-07-11T11:07:28.250223Z",
     "shell.execute_reply": "2023-07-11T11:07:28.248760Z"
    },
    "papermill": {
     "duration": 0.145768,
     "end_time": "2023-07-11T11:07:28.252936",
     "exception": false,
     "start_time": "2023-07-11T11:07:28.107168",
     "status": "completed"
    },
    "tags": []
   },
   "outputs": [],
   "source": [
    "#--Building Random Forest\n",
    "from sklearn.ensemble import RandomForestClassifier as RFC"
   ]
  },
  {
   "cell_type": "code",
   "execution_count": 17,
   "id": "d8e0ecd1",
   "metadata": {
    "execution": {
     "iopub.execute_input": "2023-07-11T11:07:28.275147Z",
     "iopub.status.busy": "2023-07-11T11:07:28.274721Z",
     "iopub.status.idle": "2023-07-11T11:07:28.907500Z",
     "shell.execute_reply": "2023-07-11T11:07:28.906674Z"
    },
    "papermill": {
     "duration": 0.64667,
     "end_time": "2023-07-11T11:07:28.909951",
     "exception": false,
     "start_time": "2023-07-11T11:07:28.263281",
     "status": "completed"
    },
    "tags": []
   },
   "outputs": [],
   "source": [
    "#--For the right value of n_estimators\n",
    "score = []\n",
    "for estimators in range(1,10):\n",
    "    model_rfc = RFC(n_estimators = estimators).fit(X_train,Y_train)\n",
    "    score.append(model_rfc.score(x_test,y_test))"
   ]
  },
  {
   "cell_type": "code",
   "execution_count": 18,
   "id": "911b2d67",
   "metadata": {
    "execution": {
     "iopub.execute_input": "2023-07-11T11:07:28.933350Z",
     "iopub.status.busy": "2023-07-11T11:07:28.932434Z",
     "iopub.status.idle": "2023-07-11T11:07:29.316213Z",
     "shell.execute_reply": "2023-07-11T11:07:29.315024Z"
    },
    "papermill": {
     "duration": 0.39783,
     "end_time": "2023-07-11T11:07:29.318593",
     "exception": false,
     "start_time": "2023-07-11T11:07:28.920763",
     "status": "completed"
    },
    "tags": []
   },
   "outputs": [
    {
     "data": {
      "image/png": "[encoded data removed]",
      "text/plain": [
       "<Figure size 640x480 with 1 Axes>"
      ]
     },
     "metadata": {},
     "output_type": "display_data"
    }
   ],
   "source": [
    "plt.plot(range(1,10), score, color = 'crimson')\n",
    "plt.title('How no. of decision tree used affect our model score')\n",
    "plt.xlabel('No. of Decision Trees')\n",
    "plt.ylabel('Score')\n",
    "plt.show()"
   ]
  },
  {
   "cell_type": "code",
   "execution_count": 19,
   "id": "b8bcdad2",
   "metadata": {
    "execution": {
     "iopub.execute_input": "2023-07-11T11:07:29.342934Z",
     "iopub.status.busy": "2023-07-11T11:07:29.342515Z",
     "iopub.status.idle": "2023-07-11T11:07:29.454642Z",
     "shell.execute_reply": "2023-07-11T11:07:29.453551Z"
    },
    "papermill": {
     "duration": 0.12711,
     "end_time": "2023-07-11T11:07:29.456998",
     "exception": false,
     "start_time": "2023-07-11T11:07:29.329888",
     "status": "completed"
    },
    "tags": []
   },
   "outputs": [],
   "source": [
    "#--Finally building it\n",
    "model_rfc = RFC(n_estimators = 9).fit(X_train,Y_train)"
   ]
  },
  {
   "cell_type": "code",
   "execution_count": 20,
   "id": "d4cdb19e",
   "metadata": {
    "execution": {
     "iopub.execute_input": "2023-07-11T11:07:29.480862Z",
     "iopub.status.busy": "2023-07-11T11:07:29.479625Z",
     "iopub.status.idle": "2023-07-11T11:07:29.496387Z",
     "shell.execute_reply": "2023-07-11T11:07:29.495123Z"
    },
    "papermill": {
     "duration": 0.030766,
     "end_time": "2023-07-11T11:07:29.498828",
     "exception": false,
     "start_time": "2023-07-11T11:07:29.468062",
     "status": "completed"
    },
    "tags": []
   },
   "outputs": [],
   "source": [
    "#--Getting predictions\n",
    "y_pred_rfc = model_rfc.predict(x_test)"
   ]
  },
  {
   "cell_type": "markdown",
   "id": "202f0c66",
   "metadata": {
    "papermill": {
     "duration": 0.010728,
     "end_time": "2023-07-11T11:07:29.520535",
     "exception": false,
     "start_time": "2023-07-11T11:07:29.509807",
     "status": "completed"
    },
    "tags": []
   },
   "source": [
    "<span style='font-family:Lato'><span style='font-size:120%;'>\n",
    "    MODEL EVALUATION"
   ]
  },
  {
   "cell_type": "code",
   "execution_count": 21,
   "id": "f1e0b649",
   "metadata": {
    "execution": {
     "iopub.execute_input": "2023-07-11T11:07:29.543916Z",
     "iopub.status.busy": "2023-07-11T11:07:29.543482Z",
     "iopub.status.idle": "2023-07-11T11:07:29.548480Z",
     "shell.execute_reply": "2023-07-11T11:07:29.547387Z"
    },
    "papermill": {
     "duration": 0.01908,
     "end_time": "2023-07-11T11:07:29.550718",
     "exception": false,
     "start_time": "2023-07-11T11:07:29.531638",
     "status": "completed"
    },
    "tags": []
   },
   "outputs": [],
   "source": [
    "#--Evaluation our model\n",
    "from sklearn.metrics import classification_report, confusion_matrix"
   ]
  },
  {
   "cell_type": "code",
   "execution_count": 22,
   "id": "516d0b5d",
   "metadata": {
    "execution": {
     "iopub.execute_input": "2023-07-11T11:07:29.573546Z",
     "iopub.status.busy": "2023-07-11T11:07:29.573148Z",
     "iopub.status.idle": "2023-07-11T11:07:29.601137Z",
     "shell.execute_reply": "2023-07-11T11:07:29.599724Z"
    },
    "papermill": {
     "duration": 0.042167,
     "end_time": "2023-07-11T11:07:29.603594",
     "exception": false,
     "start_time": "2023-07-11T11:07:29.561427",
     "status": "completed"
    },
    "tags": []
   },
   "outputs": [
    {
     "name": "stdout",
     "output_type": "stream",
     "text": [
      " Classification Report for Random Forests : \n",
      "\n",
      "               precision    recall  f1-score   support\n",
      "\n",
      "           0       0.88      0.94      0.91      2379\n",
      "           1       0.68      0.51      0.58       621\n",
      "\n",
      "    accuracy                           0.85      3000\n",
      "   macro avg       0.78      0.72      0.74      3000\n",
      "weighted avg       0.84      0.85      0.84      3000\n",
      " \n",
      "\n",
      " Classification Report for Decision Trees : \n",
      "\n",
      "               precision    recall  f1-score   support\n",
      "\n",
      "           0       0.88      0.86      0.87      2379\n",
      "           1       0.51      0.56      0.53       621\n",
      "\n",
      "    accuracy                           0.80      3000\n",
      "   macro avg       0.70      0.71      0.70      3000\n",
      "weighted avg       0.81      0.80      0.80      3000\n",
      "\n"
     ]
    }
   ],
   "source": [
    "#--Classification Report\n",
    "print(f\" Classification Report for Random Forests : \\n\\n {classification_report(y_test,y_pred_rfc)}\" ,\n",
    "      '\\n\\n',\n",
    "       f\"Classification Report for Decision Trees : \\n\\n {classification_report(y_test,y_pred)}\")"
   ]
  },
  {
   "cell_type": "code",
   "execution_count": 23,
   "id": "e32c1563",
   "metadata": {
    "execution": {
     "iopub.execute_input": "2023-07-11T11:07:29.627209Z",
     "iopub.status.busy": "2023-07-11T11:07:29.626797Z",
     "iopub.status.idle": "2023-07-11T11:07:30.015433Z",
     "shell.execute_reply": "2023-07-11T11:07:30.014300Z"
    },
    "papermill": {
     "duration": 0.402977,
     "end_time": "2023-07-11T11:07:30.017721",
     "exception": false,
     "start_time": "2023-07-11T11:07:29.614744",
     "status": "completed"
    },
    "tags": []
   },
   "outputs": [
    {
     "data": {
      "text/plain": [
       "Text(48.91666666666667, 0.5, 'Predicted Value')"
      ]
     },
     "execution_count": 23,
     "metadata": {},
     "output_type": "execute_result"
    },
    {
     "data": {
      "image/png": "[encoded data removed]",
      "text/plain": [
       "<Figure size 640x480 with 2 Axes>"
      ]
     },
     "metadata": {},
     "output_type": "display_data"
    }
   ],
   "source": [
    "sns.heatmap(confusion_matrix(y_test,y_pred), cmap = 'Set3', \n",
    "            linewidth = 0.5, annot = True, fmt= 'd')\n",
    "plt.title('Confusion Matrix for Decision Trees')\n",
    "plt.xlabel('Actual Value')\n",
    "plt.ylabel('Predicted Value')"
   ]
  },
  {
   "cell_type": "code",
   "execution_count": 24,
   "id": "81447de3",
   "metadata": {
    "execution": {
     "iopub.execute_input": "2023-07-11T11:07:30.043316Z",
     "iopub.status.busy": "2023-07-11T11:07:30.042861Z",
     "iopub.status.idle": "2023-07-11T11:07:30.415055Z",
     "shell.execute_reply": "2023-07-11T11:07:30.414055Z"
    },
    "papermill": {
     "duration": 0.388167,
     "end_time": "2023-07-11T11:07:30.417338",
     "exception": false,
     "start_time": "2023-07-11T11:07:30.029171",
     "status": "completed"
    },
    "tags": []
   },
   "outputs": [
    {
     "data": {
      "text/plain": [
       "Text(48.91666666666667, 0.5, 'Predicted Value')"
      ]
     },
     "execution_count": 24,
     "metadata": {},
     "output_type": "execute_result"
    },
    {
     "data": {
      "image/png": "[encoded data removed]",
      "text/plain": [
       "<Figure size 640x480 with 2 Axes>"
      ]
     },
     "metadata": {},
     "output_type": "display_data"
    }
   ],
   "source": [
    "sns.heatmap(confusion_matrix(y_test,y_pred_rfc), cmap = 'Set2', \n",
    "            linewidth = 0.5, annot = True, fmt= 'd')\n",
    "plt.title('Confusion Matrix for Random Forests')\n",
    "plt.xlabel('Actual Value')\n",
    "plt.ylabel('Predicted Value')"
   ]
  },
  {
   "cell_type": "markdown",
   "id": "c1f6b88a",
   "metadata": {
    "execution": {
     "iopub.execute_input": "2023-07-11T10:53:09.324593Z",
     "iopub.status.busy": "2023-07-11T10:53:09.324175Z",
     "iopub.status.idle": "2023-07-11T10:53:09.331620Z",
     "shell.execute_reply": "2023-07-11T10:53:09.330087Z",
     "shell.execute_reply.started": "2023-07-11T10:53:09.324562Z"
    },
    "papermill": {
     "duration": 0.011732,
     "end_time": "2023-07-11T11:07:30.441414",
     "exception": false,
     "start_time": "2023-07-11T11:07:30.429682",
     "status": "completed"
    },
    "tags": []
   },
   "source": [
    "<span style='font-family:Lato'><span style='font-size:110%;'>\n",
    "       END-REMARKS\n",
    "    <ul><span style='font-family:Lato'><span style='font-size:110%;'>\n",
    "        <li> We started off with our Customer Churn dataset.</li>\n",
    "        <li> Since, it was clean we didn't waste much time and did EDA encovering insights from our dataset.</li>\n",
    "        <li> We made two models Decision Trees and Random Forests.</li>\n",
    "        <li> We found that Random Forests overperformed Decison Trees by a subtle margin.</li>\n",
    "        <li> Feel free to use any other model for this dataset.However, this model is satisfactory enough.</li>\n",
    "        </span>\n",
    "<span style='font-family:Lato'><span style='font-size:130%;'>\n",
    "<i>Happy Coding :)</i>"
   ]
  }
 ],
 "metadata": {
  "kernelspec": {
   "display_name": "Python 3",
   "language": "python",
   "name": "python3"
  },
  "language_info": {
   "codemirror_mode": {
    "name": "ipython",
    "version": 3
   },
   "file_extension": ".py",
   "mimetype": "text/x-python",
   "name": "python",
   "nbconvert_exporter": "python",
   "pygments_lexer": "ipython3",
   "version": "3.10.12"
  },
  "papermill": {
   "default_parameters": {},
   "duration": 17.893727,
   "end_time": "2023-07-11T11:07:31.475463",
   "environment_variables": {},
   "exception": null,
   "input_path": "__notebook__.ipynb",
   "output_path": "__notebook__.ipynb",
   "parameters": {},
   "start_time": "2023-07-11T11:07:13.581736",
   "version": "2.4.0"
  }
 },
 "nbformat": 4,
 "nbformat_minor": 5
}
